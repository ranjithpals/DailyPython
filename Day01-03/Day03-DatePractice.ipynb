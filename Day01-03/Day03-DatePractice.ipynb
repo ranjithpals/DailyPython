{
 "cells": [
  {
   "cell_type": "code",
   "execution_count": 10,
   "metadata": {},
   "outputs": [],
   "source": [
    "from datetime import datetime as dt\n",
    "import time as t\n",
    "from datetime import timedelta as td"
   ]
  },
  {
   "cell_type": "code",
   "execution_count": 11,
   "metadata": {},
   "outputs": [],
   "source": [
    "num_tasks = 4\n",
    "len_task = 1\n",
    "len_short_brk = 1\n",
    "len_long_brk = 5"
   ]
  },
  {
   "cell_type": "code",
   "execution_count": 12,
   "metadata": {},
   "outputs": [],
   "source": [
    "dur_task = td(hours=len_task/60)\n",
    "dur_shortbrk = td(hours=len_short_brk/60)\n",
    "dur_longbrk = td(hours=len_long_brk/60)"
   ]
  },
  {
   "cell_type": "code",
   "execution_count": 13,
   "metadata": {},
   "outputs": [],
   "source": [
    "curr_time = dt.now()"
   ]
  },
  {
   "cell_type": "code",
   "execution_count": 14,
   "metadata": {},
   "outputs": [
    {
     "name": "stdout",
     "output_type": "stream",
     "text": [
      "Current Time: 2021-02-01 06:50:10.352100\n",
      "Task: 1 has started\n",
      "Task: 1 has ended\n",
      "Current Time: 2021-02-01 06:50:56.376273\n",
      "Short Break starts\n",
      "Short Break ends\n",
      "Current Time: 2021-02-01 06:51:56.402106\n",
      "Task: 2 has started\n",
      "Task: 2 has ended\n",
      "Current Time: 2021-02-01 06:51:56.402106\n",
      "Short Break starts\n",
      "Short Break ends\n",
      "Current Time: 2021-02-01 06:52:56.430275\n",
      "Task: 3 has started\n",
      "Task: 3 has ended\n",
      "Current Time: 2021-02-01 06:52:56.434173\n",
      "Short Break starts\n",
      "Short Break ends\n",
      "Current Time: 2021-02-01 06:53:56.489198\n",
      "Task: 4 has started\n",
      "Task: 4 has ended\n",
      "Current Time: 2021-02-01 06:53:56.492335\n",
      "Short Break starts\n",
      "Short Break ends\n"
     ]
    }
   ],
   "source": [
    "for i in range(num_tasks):\n",
    "    print(f'Current Time: {dt.now()}')\n",
    "    print(f'Task: {i+1} has started')\n",
    "    task_end = curr_time + dur_task\n",
    "    while dt.now() < task_end:\n",
    "        t.sleep(1)\n",
    "    print(f'Task: {i+1} has ended')\n",
    "    print(f'Current Time: {dt.now()}')\n",
    "    print('Short Break starts')\n",
    "    brk_end = dt.now() + dur_shortbrk\n",
    "    while dt.now() < brk_end:\n",
    "        t.sleep(1)\n",
    "    print('Short Break ends')"
   ]
  },
  {
   "cell_type": "code",
   "execution_count": null,
   "metadata": {},
   "outputs": [],
   "source": []
  }
 ],
 "metadata": {
  "kernelspec": {
   "display_name": "Python 3",
   "language": "python",
   "name": "python3"
  },
  "language_info": {
   "codemirror_mode": {
    "name": "ipython",
    "version": 3
   },
   "file_extension": ".py",
   "mimetype": "text/x-python",
   "name": "python",
   "nbconvert_exporter": "python",
   "pygments_lexer": "ipython3",
   "version": "3.8.5"
  }
 },
 "nbformat": 4,
 "nbformat_minor": 4
}
