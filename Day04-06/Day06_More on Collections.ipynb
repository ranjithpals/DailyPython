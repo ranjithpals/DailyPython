{
 "cells": [
  {
   "cell_type": "markdown",
   "metadata": {},
   "source": [
    "### More Examples"
   ]
  },
  {
   "cell_type": "markdown",
   "metadata": {},
   "source": [
    "#### To import function from another Python Notebook\n",
    "https://stackoverflow.com/questions/44116194/import-a-function-from-another-ipynb-file"
   ]
  },
  {
   "cell_type": "code",
   "execution_count": 3,
   "metadata": {},
   "outputs": [],
   "source": [
    "from ipynb.fs.full.Day05_Movie_Dataset import get_movies_by_director"
   ]
  },
  {
   "cell_type": "code",
   "execution_count": 4,
   "metadata": {},
   "outputs": [
    {
     "data": {
      "text/plain": [
       "'Filter directors with < MIN_MOVIES and calculate averge score'"
      ]
     },
     "execution_count": 4,
     "metadata": {},
     "output_type": "execute_result"
    }
   ],
   "source": [
    "### get_average_scores of directors filtered by numebr of movies \n",
    "'''Filter directors with < MIN_MOVIES and calculate averge score'''"
   ]
  },
  {
   "cell_type": "code",
   "execution_count": 6,
   "metadata": {},
   "outputs": [],
   "source": [
    "## Movies Dataset File\n",
    "movies_csv = 'movie_metadata.csv'"
   ]
  },
  {
   "cell_type": "code",
   "execution_count": 7,
   "metadata": {},
   "outputs": [],
   "source": [
    "directors = get_movies_by_director(movies_csv)"
   ]
  },
  {
   "cell_type": "code",
   "execution_count": 28,
   "metadata": {},
   "outputs": [
    {
     "data": {
      "text/plain": [
       "[('James Cameron',\n",
       "  [Movie(title='Avatar\\xa0', year='2009', score='7.9'),\n",
       "   Movie(title='Titanic\\xa0', year='1997', score='7.7'),\n",
       "   Movie(title='Terminator 2: Judgment Day\\xa0', year='1991', score='8.5'),\n",
       "   Movie(title='True Lies\\xa0', year='1994', score='7.2'),\n",
       "   Movie(title='The Abyss\\xa0', year='1989', score='7.6'),\n",
       "   Movie(title='Aliens\\xa0', year='1986', score='8.4'),\n",
       "   Movie(title='The Terminator\\xa0', year='1984', score='8.1')]),\n",
       " ('Gore Verbinski',\n",
       "  [Movie(title=\"Pirates of the Caribbean: At World's End\\xa0\", year='2007', score='7.1'),\n",
       "   Movie(title=\"Pirates of the Caribbean: Dead Man's Chest\\xa0\", year='2006', score='7.3'),\n",
       "   Movie(title='The Lone Ranger\\xa0', year='2013', score='6.5'),\n",
       "   Movie(title='Rango\\xa0', year='2011', score='7.2'),\n",
       "   Movie(title='Pirates of the Caribbean: The Curse of the Black Pearl\\xa0', year='2003', score='8.1'),\n",
       "   Movie(title='The Mexican\\xa0', year='2001', score='6.1'),\n",
       "   Movie(title='The Weather Man\\xa0', year='2005', score='6.6')]),\n",
       " ('Sam Mendes',\n",
       "  [Movie(title='Spectre\\xa0', year='2015', score='6.8'),\n",
       "   Movie(title='Skyfall\\xa0', year='2012', score='7.8'),\n",
       "   Movie(title='Road to Perdition\\xa0', year='2002', score='7.7'),\n",
       "   Movie(title='Jarhead\\xa0', year='2005', score='7.1'),\n",
       "   Movie(title='Revolutionary Road\\xa0', year='2008', score='7.3'),\n",
       "   Movie(title='Away We Go\\xa0', year='2009', score='7.1'),\n",
       "   Movie(title='American Beauty\\xa0', year='1999', score='8.4'),\n",
       "   Movie(title='Skyfall\\xa0', year='2012', score='7.8')]),\n",
       " ('Christopher Nolan',\n",
       "  [Movie(title='The Dark Knight Rises\\xa0', year='2012', score='8.5'),\n",
       "   Movie(title='The Dark Knight\\xa0', year='2008', score='9.0'),\n",
       "   Movie(title='Interstellar\\xa0', year='2014', score='8.6'),\n",
       "   Movie(title='Inception\\xa0', year='2010', score='8.8'),\n",
       "   Movie(title='Batman Begins\\xa0', year='2005', score='8.3'),\n",
       "   Movie(title='Insomnia\\xa0', year='2002', score='7.2'),\n",
       "   Movie(title='The Prestige\\xa0', year='2006', score='8.5'),\n",
       "   Movie(title='Memento\\xa0', year='2000', score='8.5')]),\n",
       " ('Doug Walker',\n",
       "  [Movie(title='Star Wars: Episode VII - The Force Awakens\\xa0            ', year='', score='7.1')])]"
      ]
     },
     "execution_count": 28,
     "metadata": {},
     "output_type": "execute_result"
    }
   ],
   "source": [
    "## Get first n items in a dictionary\n",
    "from itertools import islice\n",
    "n_directors = islice(directors.items(), 5)\n",
    "# type(n_directors)\n",
    "list(n_directors)"
   ]
  },
  {
   "cell_type": "code",
   "execution_count": 30,
   "metadata": {},
   "outputs": [],
   "source": [
    "from collections import Counter"
   ]
  },
  {
   "cell_type": "code",
   "execution_count": null,
   "metadata": {},
   "outputs": [],
   "source": [
    "## Minimum number of Movies\n",
    "MIN_MOVIES = 4"
   ]
  },
  {
   "cell_type": "code",
   "execution_count": 40,
   "metadata": {},
   "outputs": [],
   "source": [
    "def get_average_scores(directors):\n",
    "    '''Filter directors with < MIN_MOVIES and calculate averge score'''\n",
    "    cnt = Counter()\n",
    "\n",
    "    for director, movies in directors.items():\n",
    "        if len(movies) >= MIN_MOVIES:\n",
    "            cnt[director]=round(sum(float(movie.score) for movie in movies)/len(movies), 2)\n",
    "        \n",
    "    return cnt"
   ]
  },
  {
   "cell_type": "code",
   "execution_count": 41,
   "metadata": {},
   "outputs": [],
   "source": [
    "average_scores = get_average_scores(directors)"
   ]
  },
  {
   "cell_type": "code",
   "execution_count": 42,
   "metadata": {},
   "outputs": [
    {
     "data": {
      "text/plain": [
       "[('Sergio Leone', 8.47),\n",
       " ('Christopher Nolan', 8.43),\n",
       " ('Hayao Miyazaki', 8.22),\n",
       " ('Quentin Tarantino', 8.2),\n",
       " ('Frank Capra', 8.06)]"
      ]
     },
     "execution_count": 42,
     "metadata": {},
     "output_type": "execute_result"
    }
   ],
   "source": [
    "average_scores.most_common(5)"
   ]
  },
  {
   "cell_type": "code",
   "execution_count": 45,
   "metadata": {},
   "outputs": [],
   "source": [
    "def _calc_mean(directors):\n",
    "    '''Helper method to calculate mean of list of Movie namedtuples'''\n",
    "    cnt = Counter()\n",
    "    \n",
    "    cnt_movies = []\n",
    "    for director, movies in directors.items():\n",
    "        cnt_movies.append(len(movies))\n",
    "    \n",
    "    return sum(cnt_movies)/len(cnt_movies)"
   ]
  },
  {
   "cell_type": "code",
   "execution_count": 51,
   "metadata": {},
   "outputs": [
    {
     "name": "stdout",
     "output_type": "stream",
     "text": [
      "Mean number of movies for among all directors: 2.1\n"
     ]
    }
   ],
   "source": [
    "mean_movies = _calc_mean(directors)\n",
    "\n",
    "print(f'Mean number of movies for among all directors: {round(mean_movies, 1)}')"
   ]
  },
  {
   "cell_type": "code",
   "execution_count": null,
   "metadata": {},
   "outputs": [],
   "source": []
  }
 ],
 "metadata": {
  "kernelspec": {
   "display_name": "Python 3",
   "language": "python",
   "name": "python3"
  },
  "language_info": {
   "codemirror_mode": {
    "name": "ipython",
    "version": 3
   },
   "file_extension": ".py",
   "mimetype": "text/x-python",
   "name": "python",
   "nbconvert_exporter": "python",
   "pygments_lexer": "ipython3",
   "version": "3.8.5"
  }
 },
 "nbformat": 4,
 "nbformat_minor": 4
}
