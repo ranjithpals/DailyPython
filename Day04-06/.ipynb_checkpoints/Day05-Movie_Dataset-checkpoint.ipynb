{
 "cells": [
  {
   "cell_type": "markdown",
   "metadata": {},
   "source": [
    "### DATA ANALYSIS WITH MOVIE DATASET"
   ]
  },
  {
   "cell_type": "markdown",
   "metadata": {},
   "source": [
    "https://codechalleng.es/challenges/13/"
   ]
  },
  {
   "cell_type": "markdown",
   "metadata": {},
   "source": [
    "Details\n",
    "There is this great ML article Predict Movie Rating. In this week's code challenge we use its data set to get the 20 highest rated directors based on their average movie IMDB ratings.\n",
    "\n",
    "Steps:\n",
    "\n",
    "As mentioned in the article the dataset is here, but we provided a copy in the repo's 13/ subfolder.\n",
    "\n",
    "Parse the movie_metadata.csv, using csv.DictReader you get a bunch of OrderedDicts from which you only need the following k,v pairs:\n",
    "\n",
    "OrderedDict([...\n",
    "            ('director_name', 'Lawrence Kasdan'),   \n",
    "            ...\n",
    "            ('movie_title', 'Mumford\\xa0'),\n",
    "            ...\n",
    "            ('title_year', '1999'),\n",
    "            ...\n",
    "            ('imdb_score', '6.9'),\n",
    "            ...\n",
    "Only consider directors with a minimum of 4 movies, otherwise you get misrepresentative data. However going to min 5 movies we miss Sergio Leone :(\n",
    "\n",
    "Take movies of year >= 1960.\n",
    "\n",
    "Print the top 20 highest rated directors with their movies ordered desc on rating.\n",
    "\n",
    "It should look something like this (indeed some awesome movies here!):"
   ]
  },
  {
   "cell_type": "code",
   "execution_count": 52,
   "metadata": {},
   "outputs": [],
   "source": [
    "# Use the CSV module to create a OrderedDict, where each line(ROW) of the CSV file becomes a DICTIONARY\n",
    "# Each Attribute (Column) of the Dataset becomes a KEY and ATTRIBUTES's value is Value of the DICTIONARY\n",
    "# and we have a LIST OF DICTIONARIES AS THE ROWS WITHIN THE FILE."
   ]
  },
  {
   "cell_type": "code",
   "execution_count": 53,
   "metadata": {},
   "outputs": [],
   "source": [
    "import csv"
   ]
  },
  {
   "cell_type": "code",
   "execution_count": 54,
   "metadata": {},
   "outputs": [],
   "source": [
    "# Create a Dictionary of Directors and their respective list of movies\n",
    "# List of Movies are stored as list of Named Tuples\n",
    "\n",
    "from collections import namedtuple\n",
    "\n",
    "# Create a Named Tuple to hold the Movie Attributes\n",
    "Movie = namedtuple('Movie', 'title year score')"
   ]
  },
  {
   "cell_type": "code",
   "execution_count": 55,
   "metadata": {},
   "outputs": [],
   "source": [
    "## Movies Dataset File\n",
    "movies_csv = 'movie_metadata.csv'"
   ]
  },
  {
   "cell_type": "code",
   "execution_count": 56,
   "metadata": {},
   "outputs": [],
   "source": [
    "# Function to create Dictionary of directors and respective list of movie details"
   ]
  },
  {
   "cell_type": "code",
   "execution_count": 57,
   "metadata": {},
   "outputs": [],
   "source": [
    "from collections import defaultdict"
   ]
  },
  {
   "cell_type": "code",
   "execution_count": 58,
   "metadata": {},
   "outputs": [],
   "source": [
    "def get_movies_director(data=movies_csv):\n",
    "    \n",
    "    directors = defaultdict(list)\n",
    "    # Open the CSV file\n",
    "    with open(data, encoding=\"utf8\") as csv_file:\n",
    "        # Parse through the File\n",
    "        for line in csv.DictReader(csv_file):\n",
    "            try:\n",
    "                director = line['director_name']\n",
    "                title = line['movie_title']\n",
    "                year = line['title_year']\n",
    "                score = line['imdb_score']\n",
    "            except ValueError:\n",
    "                continue\n",
    "                \n",
    "            # Add the movie details to the director dictionary\n",
    "            directors[director].append(Movie(title=title, year=year, score=score))\n",
    "    \n",
    "    return directors"
   ]
  },
  {
   "cell_type": "code",
   "execution_count": 59,
   "metadata": {},
   "outputs": [],
   "source": [
    "# Get the Movies Dataset as dictionary of Directors\n",
    "dict_directors = get_movies_director(movies_csv)"
   ]
  },
  {
   "cell_type": "code",
   "execution_count": 60,
   "metadata": {},
   "outputs": [],
   "source": [
    "# Find the Directors with most movies\n",
    "# Create a Dictionary with Director and the number of movies directed\n",
    "# List the Most Directed Directors"
   ]
  },
  {
   "cell_type": "code",
   "execution_count": 61,
   "metadata": {},
   "outputs": [],
   "source": [
    "from collections import Counter"
   ]
  },
  {
   "cell_type": "code",
   "execution_count": 62,
   "metadata": {},
   "outputs": [
    {
     "data": {
      "text/plain": [
       "[('', 104),\n",
       " ('Steven Spielberg', 26),\n",
       " ('Woody Allen', 22),\n",
       " ('Martin Scorsese', 20),\n",
       " ('Clint Eastwood', 20)]"
      ]
     },
     "execution_count": 62,
     "metadata": {},
     "output_type": "execute_result"
    }
   ],
   "source": [
    "cnt = Counter()\n",
    "for director, movies in dict_directors.items():\n",
    "    cnt[director] = len(movies)\n",
    "    \n",
    "cnt.most_common(5)"
   ]
  },
  {
   "cell_type": "code",
   "execution_count": null,
   "metadata": {},
   "outputs": [],
   "source": []
  }
 ],
 "metadata": {
  "kernelspec": {
   "display_name": "Python 3",
   "language": "python",
   "name": "python3"
  },
  "language_info": {
   "codemirror_mode": {
    "name": "ipython",
    "version": 3
   },
   "file_extension": ".py",
   "mimetype": "text/x-python",
   "name": "python",
   "nbconvert_exporter": "python",
   "pygments_lexer": "ipython3",
   "version": "3.8.5"
  }
 },
 "nbformat": 4,
 "nbformat_minor": 4
}
